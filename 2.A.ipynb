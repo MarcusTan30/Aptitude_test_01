{
 "cells": [
  {
   "cell_type": "code",
   "execution_count": 5,
   "id": "b559a6e4-37a6-4689-8aeb-3321349cab3c",
   "metadata": {},
   "outputs": [],
   "source": [
    "#Import packages\n",
    "import pandas as pd\n",
    "import requests\n",
    "import numpy as np\n",
    "from sklearn.linear_model import Ridge\n",
    "from sklearn.preprocessing import scale\n",
    "from sklearn.preprocessing import StandardScaler\n",
    "from sklearn.model_selection import train_test_split\n",
    "from sklearn.model_selection import cross_val_score\n",
    "from sklearn.metrics import mean_squared_error,mean_absolute_error,mean_absolute_percentage_error,explained_variance_score\n",
    "from sklearn.tree import DecisionTreeRegressor\n",
    "from sklearn.ensemble import RandomForestRegressor\n",
    "from sklearn.pipeline import Pipeline\n",
    "import seaborn as sns\n",
    "import numpy as np\n",
    "import matplotlib.pyplot as plt\n",
    "from sklearn.linear_model import Ridge\n",
    "from sklearn.model_selection import GridSearchCV\n",
    "from sklearn.decomposition import PCA\n",
    "import statsmodels as sm\n",
    "import statsmodels.api as smf  \n",
    "from statsmodels.formula.api import ols #formula guide: https://www.statsmodels.org/dev/examples/notebooks/generated/formulas.html"
   ]
  },
  {
   "cell_type": "code",
   "execution_count": 71,
   "id": "4c88d79c-9810-4a1e-8bbe-34e2d9c8a476",
   "metadata": {},
   "outputs": [],
   "source": [
    "#Global Values\n",
    "\n",
    "#resale fp\n",
    "RSF_fp=\"Relevant_datasets/RSF90onw_wAddress.csv\""
   ]
  },
  {
   "cell_type": "markdown",
   "id": "df6eee08-3037-496a-946d-fb9f53146ad8",
   "metadata": {},
   "source": [
    "To predict a resale flat's price transaction in 2014, i will use: \n",
    "1. A ridge regression model\n",
    "A ridge regression shrinks the coefficients of variables rather than remove them (in a lasso). Given that i am expecting a lot of dummy variables for my town variable, i can't remove those variables, but i am also concerned about having too many variables resulting in an overfitted model which could worsen the variance of the model and hinder its performance when met with new data.\n",
    "\n",
    "2. A Decision Tree regression model\n",
    "\n",
    "3. A Random forest tree regression model\n",
    "\n",
    "\n",
    "I will also assume that all i can use is town,flat_age and flat_type"
   ]
  },
  {
   "cell_type": "markdown",
   "id": "167dcc77-5296-47a3-9668-204d2f4b2314",
   "metadata": {},
   "source": [
    "### Data Cleaning"
   ]
  },
  {
   "cell_type": "code",
   "execution_count": 100,
   "id": "c66d0969-51bd-429c-b4d9-45654964e4af",
   "metadata": {},
   "outputs": [],
   "source": [
    "#Import Resale Flat data\n",
    "RSF=pd.read_csv(RSF_fp,index_col=0,low_memory=False)"
   ]
  },
  {
   "cell_type": "code",
   "execution_count": 101,
   "id": "94c3d0dc-5489-4265-b9c3-22ff74c2165a",
   "metadata": {},
   "outputs": [
    {
     "name": "stdout",
     "output_type": "stream",
     "text": [
      "no. of unchanged rows: 0\n"
     ]
    }
   ],
   "source": [
    "##Data manipulation\n",
    "\n",
    "\n",
    "# To allow faster training of model , to utilise only 3 years of data\n",
    "RSF=RSF.loc[(RSF['Year_x']<2020)&(RSF['Year_x']>=2017)]\n",
    "\n",
    "#Create a variable for flat age\n",
    "RSF['flat_age']=RSF['Year_x']-RSF['lease_commence_date']\n",
    "\n",
    "##Different dataset was added after coding, town_x was the name of the variable for town, hence will rename town to town_x for simplicity sake\n",
    "RSF=RSF.rename({'town':'town_x'},axis=1)\n",
    "\n",
    "#to assume a linear relationship btw flat type and resale price.\n",
    "#assume executive>multi-gen>5 room in general in terms of resale price\n",
    "RSF['flat_type_n']=0\n",
    "RSF.loc[RSF['flat_type']=='1 ROOM','flat_type_n']=1\n",
    "RSF.loc[RSF['flat_type']=='2 ROOM','flat_type_n']=2\n",
    "RSF.loc[RSF['flat_type']=='3 ROOM','flat_type_n']=3\n",
    "RSF.loc[RSF['flat_type']=='4 ROOM','flat_type_n']=4\n",
    "RSF.loc[RSF['flat_type']=='5 ROOM','flat_type_n']=5\n",
    "RSF.loc[RSF['flat_type']=='MULTI-GENERATION','flat_type_n']=6\n",
    "RSF.loc[RSF['flat_type']=='MULTI GENERATION','flat_type_n']=6\n",
    "RSF.loc[RSF['flat_type']=='EXECUTIVE','flat_type_n']=7\n",
    "print(\"no. of unchanged rows:\",RSF.loc[RSF['flat_type_n']==0]['flat_type_n'].count())\n"
   ]
  },
  {
   "cell_type": "code",
   "execution_count": 102,
   "id": "74fb483c-783c-40a3-b301-291fd5058dc7",
   "metadata": {},
   "outputs": [],
   "source": [
    "#create a list of unique towns for easy reference\n",
    "town_list=list(RSF['town_x'].unique())\n",
    "#remove one town (e.g.Ang_moh_kio) from list before adding to formula to prevent multicollinearity (1 town needs to be absent during regression)\n",
    "RSF_dummies = pd.get_dummies(RSF,columns=['town_x'],drop_first=True)\n",
    "\n",
    "#create a list of column names for each dummy for ease of reference\n",
    "town_list = ['town_x_' + x for x in town_list]\n",
    "#pd.get_dummies will remove the first column, AKA 'town_ANG MO KIO'\n",
    "town_list.remove('town_x_ANG MO KIO')\n",
    "#create a dummy of towns\n"
   ]
  },
  {
   "cell_type": "code",
   "execution_count": 103,
   "id": "ffb04823-9962-4d20-9292-9d9da07c3de3",
   "metadata": {},
   "outputs": [
    {
     "data": {
      "text/plain": [
       "Index(['month', 'flat_type', 'block', 'street_name_x', 'storey_range',\n",
       "       'floor_area_sqm', 'flat_model', 'lease_commence_date', 'resale_price',\n",
       "       'remaining_lease', 'street_name_y', 'Lat', 'Lon', 'street_names_oldver',\n",
       "       'Coordinates', 'rLat', 'rLon', 'Cl_MRT', 'Distance_MRT_km', 'Year_x',\n",
       "       'Quarter_x', 'Yr_Qt', 'Year_y', 'Quarter_y', 'Index',\n",
       "       'Real_resale_price', 'flat_age', 'flat_type_n', 'town_x_BEDOK',\n",
       "       'town_x_BISHAN', 'town_x_BUKIT BATOK', 'town_x_BUKIT MERAH',\n",
       "       'town_x_BUKIT PANJANG', 'town_x_BUKIT TIMAH', 'town_x_CENTRAL AREA',\n",
       "       'town_x_CHOA CHU KANG', 'town_x_CLEMENTI', 'town_x_GEYLANG',\n",
       "       'town_x_HOUGANG', 'town_x_JURONG EAST', 'town_x_JURONG WEST',\n",
       "       'town_x_KALLANG/WHAMPOA', 'town_x_MARINE PARADE', 'town_x_PASIR RIS',\n",
       "       'town_x_PUNGGOL', 'town_x_QUEENSTOWN', 'town_x_SEMBAWANG',\n",
       "       'town_x_SENGKANG', 'town_x_SERANGOON', 'town_x_TAMPINES',\n",
       "       'town_x_TOA PAYOH', 'town_x_WOODLANDS', 'town_x_YISHUN'],\n",
       "      dtype='object')"
      ]
     },
     "execution_count": 103,
     "metadata": {},
     "output_type": "execute_result"
    }
   ],
   "source": [
    "RSF_dummies.columns"
   ]
  },
  {
   "cell_type": "code",
   "execution_count": 104,
   "id": "0cfd3822-9bff-4b20-913a-65c74ca5d8d2",
   "metadata": {},
   "outputs": [],
   "source": [
    "#convert boolean to int for dummy variables to ease regression\n",
    "for i in town_list:\n",
    "    RSF_dummies[i] = RSF_dummies[i].astype(int)"
   ]
  },
  {
   "cell_type": "code",
   "execution_count": 105,
   "id": "9d0cc389-ef06-43fa-be1a-1ef469d6f045",
   "metadata": {},
   "outputs": [],
   "source": [
    "#creating strings of the list of towns to make copying of columns easier\n",
    "for i in town_list:\n",
    "    str_cols= \"'\"+\"','\".join(town_list)+\"'\""
   ]
  },
  {
   "cell_type": "code",
   "execution_count": 106,
   "id": "24891ec8-7cef-4d38-9cd4-4351f1bfc974",
   "metadata": {},
   "outputs": [
    {
     "data": {
      "text/plain": [
       "Index(['month', 'flat_type', 'block', 'street_name_x', 'storey_range',\n",
       "       'floor_area_sqm', 'flat_model', 'lease_commence_date', 'resale_price',\n",
       "       'remaining_lease', 'street_name_y', 'Lat', 'Lon', 'street_names_oldver',\n",
       "       'Coordinates', 'rLat', 'rLon', 'Cl_MRT', 'Distance_MRT_km', 'Year_x',\n",
       "       'Quarter_x', 'Yr_Qt', 'Year_y', 'Quarter_y', 'Index',\n",
       "       'Real_resale_price', 'flat_age', 'flat_type_n', 'town_x_BEDOK',\n",
       "       'town_x_BISHAN', 'town_x_BUKIT BATOK', 'town_x_BUKIT MERAH',\n",
       "       'town_x_BUKIT PANJANG', 'town_x_BUKIT TIMAH', 'town_x_CENTRAL AREA',\n",
       "       'town_x_CHOA CHU KANG', 'town_x_CLEMENTI', 'town_x_GEYLANG',\n",
       "       'town_x_HOUGANG', 'town_x_JURONG EAST', 'town_x_JURONG WEST',\n",
       "       'town_x_KALLANG/WHAMPOA', 'town_x_MARINE PARADE', 'town_x_PASIR RIS',\n",
       "       'town_x_PUNGGOL', 'town_x_QUEENSTOWN', 'town_x_SEMBAWANG',\n",
       "       'town_x_SENGKANG', 'town_x_SERANGOON', 'town_x_TAMPINES',\n",
       "       'town_x_TOA PAYOH', 'town_x_WOODLANDS', 'town_x_YISHUN'],\n",
       "      dtype='object')"
      ]
     },
     "execution_count": 106,
     "metadata": {},
     "output_type": "execute_result"
    }
   ],
   "source": [
    "RSF_dummies.columns"
   ]
  },
  {
   "cell_type": "code",
   "execution_count": 107,
   "id": "696766d9-aeb9-48f8-b6f6-9ab5f2609dd7",
   "metadata": {},
   "outputs": [],
   "source": [
    "RSF_ML=RSF_dummies[['Real_resale_price','flat_type_n','flat_age','town_x_BEDOK','town_x_BISHAN','town_x_BUKIT BATOK','town_x_BUKIT MERAH','town_x_BUKIT PANJANG','town_x_BUKIT TIMAH','town_x_CENTRAL AREA','town_x_CHOA CHU KANG','town_x_CLEMENTI','town_x_GEYLANG','town_x_HOUGANG','town_x_JURONG EAST','town_x_JURONG WEST','town_x_KALLANG/WHAMPOA','town_x_MARINE PARADE','town_x_PASIR RIS','town_x_PUNGGOL','town_x_QUEENSTOWN','town_x_SEMBAWANG','town_x_SENGKANG','town_x_SERANGOON','town_x_TAMPINES','town_x_TOA PAYOH','town_x_WOODLANDS','town_x_YISHUN']]"
   ]
  },
  {
   "cell_type": "code",
   "execution_count": 116,
   "id": "84353624-2d47-48f9-b8b9-5c9d05e8fa21",
   "metadata": {
    "editable": true,
    "slideshow": {
     "slide_type": ""
    },
    "tags": []
   },
   "outputs": [],
   "source": [
    "#Create a train and test set\n",
    "X_train, X_test, y_train, y_test = train_test_split(RSF_ML.drop('Real_resale_price', axis=1), RSF_ML['Real_resale_price'], test_size=0.25, random_state=100)\n",
    "\n",
    "#normalize data variance and mean with standard scaler\n",
    "scaler = StandardScaler()\n",
    "scaler.fit(X_train)\n",
    "X_train=scaler.transform(X_train)\n",
    "X_test=scaler.transform(X_test)\n"
   ]
  },
  {
   "cell_type": "markdown",
   "id": "54be4f65-c19a-4b83-980e-19e4f9daf52d",
   "metadata": {},
   "source": [
    "### Ridge Regression Model"
   ]
  },
  {
   "cell_type": "markdown",
   "id": "0e325d92-5d8b-47d6-881f-873891738df5",
   "metadata": {},
   "source": [
    "Was deciding between mean square error and mean absolute error, but a trial of mean square error proved that it is probably an inferior metric for evaluating the performance of resale flat price which has a high value. Errors within MSE would hence be exponentially increase, hence opted for MAE."
   ]
  },
  {
   "cell_type": "code",
   "execution_count": 120,
   "id": "b3ac13d7-3a73-4cf7-948d-7fc612c493fe",
   "metadata": {
    "editable": true,
    "slideshow": {
     "slide_type": ""
    },
    "tags": []
   },
   "outputs": [
    {
     "name": "stdout",
     "output_type": "stream",
     "text": [
      "Best estimator has alpha value of 100.0  estimators\n",
      "mean absolute error:  76156.41561282442\n",
      "mean absolute percentage error:  0.12746701790122178\n",
      "explained variance score:  0.7818842375261099\n"
     ]
    }
   ],
   "source": [
    "#create 20 evenly spaced integers from 1-100\n",
    "lin_space=np.linspace(1, 100, 10)\n",
    "\n",
    "#determine parameters to test n_estimators, min_samples_leaf\n",
    "\n",
    "params=[{'alpha': lin_space}]\n",
    "\n",
    "scorer=['neg_mean_absolute_error','neg_mean_absolute_percentage_error','explained_variance']\n",
    "\n",
    "RG_GS = GridSearchCV(Ridge(),param_grid=params,\n",
    "                     scoring=scorer,\n",
    "                     refit='neg_mean_absolute_error',\n",
    "                     cv=5,n_jobs=-1)\n",
    "\n",
    "RG_GS.fit(X_train, y_train)\n",
    "RG_GS.best_params_\n",
    "RG_GS.score(X_train, y_train)\n",
    "RG_GS_best_estimator = RG_GS.best_estimator_\n",
    "\n",
    "print(f\"Best estimator has alpha value of {RG_GS.best_params_['alpha']}  estimators\")\n",
    "y_pred = RG_GS_best_estimator.predict(X_test)\n",
    "\n",
    "print(\"mean absolute error: \",mean_absolute_error(y_test, y_pred))\n",
    "print(\"mean absolute percentage error: \",mean_absolute_percentage_error(y_test, y_pred))\n",
    "print(\"explained variance score: \",explained_variance_score(y_test, y_pred))"
   ]
  },
  {
   "cell_type": "markdown",
   "id": "a5301345-eca6-41c0-be7e-df943d3ecc40",
   "metadata": {},
   "source": [
    "### Decision tree Model"
   ]
  },
  {
   "cell_type": "code",
   "execution_count": 122,
   "id": "f7095f53-9f8b-4026-9cad-814ff89740a2",
   "metadata": {
    "editable": true,
    "slideshow": {
     "slide_type": ""
    },
    "tags": []
   },
   "outputs": [
    {
     "name": "stderr",
     "output_type": "stream",
     "text": [
      "C:\\Users\\marcu\\anaconda3\\Lib\\site-packages\\sklearn\\model_selection\\_validation.py:540: FitFailedWarning: \n",
      "30 fits failed out of a total of 120.\n",
      "The score on these train-test partitions for these parameters will be set to nan.\n",
      "If these failures are not expected, you can try to debug them by setting error_score='raise'.\n",
      "\n",
      "Below are more details about the failures:\n",
      "--------------------------------------------------------------------------------\n",
      "30 fits failed with the following error:\n",
      "Traceback (most recent call last):\n",
      "  File \"C:\\Users\\marcu\\anaconda3\\Lib\\site-packages\\sklearn\\model_selection\\_validation.py\", line 888, in _fit_and_score\n",
      "    estimator.fit(X_train, y_train, **fit_params)\n",
      "  File \"C:\\Users\\marcu\\anaconda3\\Lib\\site-packages\\sklearn\\base.py\", line 1466, in wrapper\n",
      "    estimator._validate_params()\n",
      "  File \"C:\\Users\\marcu\\anaconda3\\Lib\\site-packages\\sklearn\\base.py\", line 666, in _validate_params\n",
      "    validate_parameter_constraints(\n",
      "  File \"C:\\Users\\marcu\\anaconda3\\Lib\\site-packages\\sklearn\\utils\\_param_validation.py\", line 95, in validate_parameter_constraints\n",
      "    raise InvalidParameterError(\n",
      "sklearn.utils._param_validation.InvalidParameterError: The 'min_samples_split' parameter of DecisionTreeRegressor must be an int in the range [2, inf) or a float in the range (0.0, 1.0]. Got 1 instead.\n",
      "\n",
      "  warnings.warn(some_fits_failed_message, FitFailedWarning)\n",
      "C:\\Users\\marcu\\anaconda3\\Lib\\site-packages\\sklearn\\model_selection\\_search.py:1052: UserWarning: One or more of the test scores are non-finite: [            nan -49444.19018798 -49448.83774438 -49476.24104859\n",
      "             nan -50692.62749196 -50692.62749196 -50692.62749196\n",
      "             nan -52533.8911654  -52533.8911654  -52533.8911654\n",
      "             nan -49267.6467071  -49245.97970483 -49289.54902\n",
      "             nan -50368.39810327 -50359.76636013 -50350.89820856\n",
      "             nan -52128.40605066 -52122.91624873 -52127.85901374]\n",
      "  warnings.warn(\n",
      "C:\\Users\\marcu\\anaconda3\\Lib\\site-packages\\sklearn\\model_selection\\_search.py:1052: UserWarning: One or more of the test scores are non-finite: [        nan -0.08039551 -0.0804088  -0.08042435         nan -0.08215286\n",
      " -0.08215286 -0.08215286         nan -0.08480297 -0.08480297 -0.08480297\n",
      "         nan -0.07886803 -0.0788648  -0.07891646         nan -0.08028083\n",
      " -0.08027912 -0.08026442         nan -0.0825705  -0.08256339 -0.08256729]\n",
      "  warnings.warn(\n",
      "C:\\Users\\marcu\\anaconda3\\Lib\\site-packages\\sklearn\\model_selection\\_search.py:1052: UserWarning: One or more of the test scores are non-finite: [       nan 0.89458851 0.89458746 0.89437671        nan 0.88835426\n",
      " 0.88835426 0.88835426        nan 0.87870289 0.87870289 0.87870289\n",
      "        nan 0.88772176 0.88783062 0.8874627         nan 0.88117424\n",
      " 0.88125306 0.88133472        nan 0.87052002 0.87053128 0.87051562]\n",
      "  warnings.warn(\n"
     ]
    },
    {
     "name": "stdout",
     "output_type": "stream",
     "text": [
      "Best estimator has 1 minimum samples per leaf,uses absolute_error criterion and 7 splits\n",
      "mean absolute error:  48704.960546689676\n",
      "mean absolute percentage error:  0.07811538633735214\n",
      "explained variance score:  0.8937995635690524\n"
     ]
    }
   ],
   "source": [
    "#create 10 evenly spaced integers from 1-10\n",
    "lin_space=np.linspace(1, 10, 4)\n",
    "lin_space=[int(x) for x in lin_space]\n",
    "\n",
    "#determine parameters to test n_estimators, min_samples_leaf\n",
    "\n",
    "params=[{'min_samples_leaf': [1,10,20],\n",
    "         'criterion':['squared_error', 'absolute_error'],\n",
    "         'min_samples_split': lin_space}]\n",
    "\n",
    "scorer=['neg_mean_absolute_error','neg_mean_absolute_percentage_error','explained_variance']\n",
    "\n",
    "DTM_GS = GridSearchCV(DecisionTreeRegressor(),\n",
    "                      param_grid=params,\n",
    "                      scoring=scorer,\n",
    "                      refit='neg_mean_absolute_error',\n",
    "                      cv=5,\n",
    "                      n_jobs=-1)\n",
    "\n",
    "DTM_GS.fit(X_train, y_train)\n",
    "DTM_GS.best_params_\n",
    "DTM_GS.score(X_train, y_train)  \n",
    "DTM_GS_best_estimator = DTM_GS.best_estimator_\n",
    "\n",
    "print(f\"Best estimator has {DTM_GS.best_params_['min_samples_leaf']} minimum samples per leaf,uses {DTM_GS.best_params_['criterion']} criterion and {DTM_GS.best_params_['min_samples_split']} splits\")\n",
    "y_pred = DTM_GS_best_estimator.predict(X_test)\n",
    "mae=mean_absolute_error(y_test, y_pred)\n",
    "print(\"mean absolute error: \",mean_absolute_error(y_test, y_pred))\n",
    "print(\"mean absolute percentage error: \",mean_absolute_percentage_error(y_test, y_pred))\n",
    "print(\"explained variance score: \",explained_variance_score(y_test, y_pred))"
   ]
  },
  {
   "cell_type": "markdown",
   "id": "c8a6cc7e-03ba-4a88-a7c7-69bd70a82d8a",
   "metadata": {},
   "source": [
    "### Random forest tree Model"
   ]
  },
  {
   "cell_type": "code",
   "execution_count": 124,
   "id": "a25f6fc8-4328-49ee-8fdf-026a3751aed4",
   "metadata": {},
   "outputs": [
    {
     "name": "stdout",
     "output_type": "stream",
     "text": [
      "Best estimator has 1 minimum samples per leaf and 78 estimators\n",
      "\n",
      "mean absolute error:  49000.51294511904\n",
      "mean absolute percentage error:  0.07986166840949911\n",
      "explained variance score:  0.898599688214107\n"
     ]
    }
   ],
   "source": [
    "#create 20 evenly spaced integers from 1-100\n",
    "lin_space=np.linspace(1, 100, 10)\n",
    "lin_space=[int(x) for x in lin_space]\n",
    "\n",
    "#determine parameters to test n_estimators, min_samples_leaf\n",
    "params=[{'n_estimators': lin_space,\n",
    "         'min_samples_leaf': [1,5,10,20]}]\n",
    "\n",
    "RFM_GS = GridSearchCV(RandomForestRegressor(),\n",
    "                      param_grid=params,\n",
    "                      scoring='neg_mean_absolute_error',\n",
    "                      cv=5,n_jobs=-1)\n",
    "\n",
    "RFM_GS.fit(X_train, y_train)\n",
    "RFM_GS.best_params_\n",
    "RFM_GS.score(X_train, y_train)\n",
    "RFM_GS_best_estimator = RFM_GS.best_estimator_\n",
    "\n",
    "print(f\"Best estimator has {RFM_GS.best_params_['min_samples_leaf']} minimum samples per leaf and {RFM_GS.best_params_['n_estimators']} estimators\")\n",
    "print()\n",
    "y_pred = RFM_GS_best_estimator.predict(X_test)\n",
    "mae=mean_absolute_error(y_test, y_pred)\n",
    "print(\"mean absolute error: \",mean_absolute_error(y_test, y_pred))\n",
    "print(\"mean absolute percentage error: \",mean_absolute_percentage_error(y_test, y_pred))\n",
    "print(\"explained variance score: \",explained_variance_score(y_test, y_pred))"
   ]
  }
 ],
 "metadata": {
  "kernelspec": {
   "display_name": "Python 3 (ipykernel)",
   "language": "python",
   "name": "python3"
  },
  "language_info": {
   "codemirror_mode": {
    "name": "ipython",
    "version": 3
   },
   "file_extension": ".py",
   "mimetype": "text/x-python",
   "name": "python",
   "nbconvert_exporter": "python",
   "pygments_lexer": "ipython3",
   "version": "3.11.7"
  }
 },
 "nbformat": 4,
 "nbformat_minor": 5
}
