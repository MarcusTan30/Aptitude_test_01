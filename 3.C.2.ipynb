{
 "cells": [
  {
   "cell_type": "markdown",
   "id": "1e148ccb-d700-4e7d-8c46-162e10334747",
   "metadata": {},
   "source": [
    "### 3.C.2\n",
    "2 regressions will be conducted in this ipynb.\n",
    "\n",
    "##### Data manipulation\n",
    "1.Downtown line stage 2 (DT2) MRT data and resale flat Data will be imported and merged \\\n",
    "2.Flat type will be encoded \\\n",
    "3.Remaining years on lease data wil be calculated \\\n",
    "4.Using a list of DT2 MRT names, create a dummy column for rows where the closest MRT is DT2 MRT (for angle 2 analysis) \\\n",
    "5.Restrict data to between years 2015 and 2016 (inclusive) \\\n",
    "6.Conduct regression for angle 1 \\\n",
    "7.Conduct regression for angle 2 \n",
    "\n"
   ]
  },
  {
   "cell_type": "code",
   "execution_count": 2,
   "id": "c710ec47-55c7-4cf6-ab02-8ad339468f0f",
   "metadata": {},
   "outputs": [],
   "source": [
    "import pandas as pd\n",
    "import numpy as np\n",
    "import statsmodels.api as smf  \n",
    "from statsmodels.formula.api import ols\n",
    "from statsmodels.stats.meta_analysis import effectsize_smd\n",
    "from sklearn.preprocessing import StandardScaler\n",
    "from causalinference import CausalModel\n"
   ]
  },
  {
   "cell_type": "code",
   "execution_count": 4,
   "id": "1f60e2dd-071d-44e9-85c0-5ce78a9d59ae",
   "metadata": {
    "editable": true,
    "slideshow": {
     "slide_type": ""
    },
    "tags": []
   },
   "outputs": [],
   "source": [
    "#global values\n",
    "\n",
    "#Downtown stage 2 dummy file path\n",
    "DT2_fp=\"Relevant_datasets/3_C_1_Address_DT2.csv\"\n",
    "\n",
    "\n",
    "#Resale file path\n",
    "Resale_fp=\"Relevant_datasets/RSF90onw_wAddress.csv\""
   ]
  },
  {
   "cell_type": "code",
   "execution_count": 5,
   "id": "31de97be-2e41-4e4b-885a-aed545d3542e",
   "metadata": {
    "editable": true,
    "slideshow": {
     "slide_type": ""
    },
    "tags": []
   },
   "outputs": [],
   "source": [
    "#import Downtown line 2\n",
    "DT2=pd.read_csv(DT2_fp,index_col=0)\n",
    "#imprt Resale Flat dataset\n",
    "RSF=pd.read_csv(Resale_fp,index_col=0,low_memory=False)"
   ]
  },
  {
   "cell_type": "code",
   "execution_count": 6,
   "id": "3dc4f8b0",
   "metadata": {},
   "outputs": [
    {
     "data": {
      "text/html": [
       "<div>\n",
       "<style scoped>\n",
       "    .dataframe tbody tr th:only-of-type {\n",
       "        vertical-align: middle;\n",
       "    }\n",
       "\n",
       "    .dataframe tbody tr th {\n",
       "        vertical-align: top;\n",
       "    }\n",
       "\n",
       "    .dataframe thead th {\n",
       "        text-align: right;\n",
       "    }\n",
       "</style>\n",
       "<table border=\"1\" class=\"dataframe\">\n",
       "  <thead>\n",
       "    <tr style=\"text-align: right;\">\n",
       "      <th></th>\n",
       "      <th>month</th>\n",
       "      <th>town_x</th>\n",
       "      <th>flat_type</th>\n",
       "      <th>block</th>\n",
       "      <th>street_name_x</th>\n",
       "      <th>storey_range</th>\n",
       "      <th>floor_area_sqm</th>\n",
       "      <th>flat_model</th>\n",
       "      <th>lease_commence_date</th>\n",
       "      <th>resale_price</th>\n",
       "      <th>...</th>\n",
       "      <th>Year_x</th>\n",
       "      <th>Quarter_x</th>\n",
       "      <th>Yr_Qt</th>\n",
       "      <th>Year_y</th>\n",
       "      <th>Quarter_y</th>\n",
       "      <th>Index</th>\n",
       "      <th>Real_resale_price</th>\n",
       "      <th>town_y</th>\n",
       "      <th>DT2</th>\n",
       "      <th>town_oldver</th>\n",
       "    </tr>\n",
       "  </thead>\n",
       "  <tbody>\n",
       "  </tbody>\n",
       "</table>\n",
       "<p>0 rows × 30 columns</p>\n",
       "</div>"
      ],
      "text/plain": [
       "Empty DataFrame\n",
       "Columns: [month, town_x, flat_type, block, street_name_x, storey_range, floor_area_sqm, flat_model, lease_commence_date, resale_price, remaining_lease, street_name_y, Lat, Lon, street_names_oldver, Coordinates, rLat, rLon, Cl_MRT, Distance_MRT_km, Year_x, Quarter_x, Yr_Qt, Year_y, Quarter_y, Index, Real_resale_price, town_y, DT2, town_oldver]\n",
       "Index: []\n",
       "\n",
       "[0 rows x 30 columns]"
      ]
     },
     "execution_count": 6,
     "metadata": {},
     "output_type": "execute_result"
    }
   ],
   "source": [
    "#Merge Downtown line dummy variable data with RSF to show flats in towns where downtown line stage 2 stations were built.\n",
    "RSF_DT=RSF.merge(DT2,on='street_name_x',how='left')\n",
    "#sanity check, there should be no null DT2 rows (all should be 0 or 1)\n",
    "RSF_DT.loc[RSF_DT.DT2.isnull()]"
   ]
  },
  {
   "cell_type": "code",
   "execution_count": 7,
   "id": "b81512c1-4518-4542-a934-bc2effd35ffd",
   "metadata": {
    "editable": true,
    "slideshow": {
     "slide_type": ""
    },
    "tags": []
   },
   "outputs": [
    {
     "name": "stdout",
     "output_type": "stream",
     "text": [
      "no. of unchanged rows: 0\n"
     ]
    }
   ],
   "source": [
    "RSF_DT['flat_type'].unique()\n",
    "#to assume a linear relationship btw flat type and resale price.\n",
    "#assume executive>multi-gen>5 room in general in terms of resale price\n",
    "RSF_DT['flat_type_n']=0\n",
    "RSF_DT.loc[RSF_DT['flat_type']=='1 ROOM','flat_type_n']=1\n",
    "RSF_DT.loc[RSF_DT['flat_type']=='2 ROOM','flat_type_n']=2\n",
    "RSF_DT.loc[RSF_DT['flat_type']=='3 ROOM','flat_type_n']=3\n",
    "RSF_DT.loc[RSF_DT['flat_type']=='4 ROOM','flat_type_n']=4\n",
    "RSF_DT.loc[RSF_DT['flat_type']=='5 ROOM','flat_type_n']=5\n",
    "RSF_DT.loc[RSF_DT['flat_type']=='MULTI-GENERATION','flat_type_n']=6\n",
    "RSF_DT.loc[RSF_DT['flat_type']=='MULTI GENERATION','flat_type_n']=6\n",
    "RSF_DT.loc[RSF_DT['flat_type']=='EXECUTIVE','flat_type_n']=7\n",
    "print(\"no. of unchanged rows:\",RSF_DT.loc[RSF_DT['flat_type_n']==0]['flat_type_n'].count())\n",
    "\n",
    "#create a column calculating the remaining lease (some rows do not have remaining lease data so i will re-create using lease_commence_date and assuming all houses have 99 years of lease at lease commenment\n",
    "RSF_DT['Lease_rem_years']=99-(RSF_DT['Year_x']-RSF_DT['lease_commence_date'])\n",
    "\n",
    "\n",
    "\n"
   ]
  },
  {
   "cell_type": "code",
   "execution_count": 8,
   "id": "449e38ce-528e-4825-bbb6-693e1bd8829e",
   "metadata": {},
   "outputs": [
    {
     "data": {
      "text/plain": [
       "array(['HILLVIEW MRT STATION', 'ROCHOR MRT STATION',\n",
       "       'LITTLE INDIA MRT STATION', 'CASHEW MRT STATION',\n",
       "       'BUKIT PANJANG LRT STATION'], dtype=object)"
      ]
     },
     "execution_count": 8,
     "metadata": {},
     "output_type": "execute_result"
    }
   ],
   "source": [
    "#According to wikipedia: Downtown line stage 2 stations were released in 27 December 2015. We will hence assume that the \n",
    "#intervention started in 01-01-2016 (4 days after the official release date)\n",
    "#link:https://en.wikipedia.org/wiki/Downtown_MRT_line\n",
    "\n",
    "#For further analysis:what is the impact of DT2 lines on the flats (not towns) it is closest to? (flats where closest MRT is one of the DT2 stations)\n",
    "#Get name of station of DT2 MRT\n",
    "MRT_DT2=['BUKIT PANJANG LRT STATION','CASHEW MRT STATION','HILLVIEW MRT STATION','KING ALBERT PARK MRT STATION','SIXTH AVENUE MRT STATION','TAN KAH KEE MRT STATION','BOTANIC GARDENS MRT STATION','STEVENS MRT STATION','NEWTON MRT STATION','LITTLE INDIA MRT STATION','ROCHOR MRT STATION']\n",
    "\n",
    "RSF_DT['CL_MRT_DT2']=RSF_DT.apply(lambda x: 1 if x.Cl_MRT in MRT_DT2 else 0,axis=1)\n",
    "\n",
    "#Sanity check to see if stations were mapped properly, double checked the list to see if the unmapped MRT stations appeared in the list of Cl_MRT stations in the RSF dataset\n",
    "RSF_DT.loc[RSF_DT['CL_MRT_DT2']==1]['Cl_MRT'].unique()"
   ]
  },
  {
   "cell_type": "code",
   "execution_count": 14,
   "id": "2ea07c6f-cf6f-40d0-84c3-7125988c8e39",
   "metadata": {
    "editable": true,
    "slideshow": {
     "slide_type": ""
    },
    "tags": []
   },
   "outputs": [],
   "source": [
    "#To Narrow the analysis to the impact of Downtown line stage 2 stations on resale flat prices 2 years before (2014) and 2 years after (2018) 2016.\n",
    "RSF_DT=RSF_DT.loc[(RSF_DT['Year_x']<2017)&(RSF_DT['Year_x']>=2015)]\n",
    "\n",
    "#Create a dummy for sales before and after 2016(intervention period)\n",
    "RSF_DT['Post']=RSF_DT.apply(lambda x: 1 if x['Year_x']>=2016 else 0,axis=1)\n",
    "\n",
    "\n",
    "#prepare dataset for regression, reset index for PSM and create a subset columns\n",
    "RSF_DT.reset_index(inplace=True)\n",
    "RSF_DT=RSF_DT[['index','floor_area_sqm','flat_type_n','Lease_rem_years','DT2','Post','Real_resale_price','CL_MRT_DT2']]\n"
   ]
  },
  {
   "cell_type": "code",
   "execution_count": 19,
   "id": "79dacfcd-dfb6-479a-9e70-78507aa733ff",
   "metadata": {
    "scrolled": true
   },
   "outputs": [
    {
     "data": {
      "text/plain": [
       "\"\\npsm = PsmPy(RSF_DT, treatment='DT2', indx='index', exclude = ['Post'])\\npsm.logistic_ps(balance = True)\\npsm.predicted_data\\npsm.logistic_ps(balance = True)\\npsm.knn_matched(matcher='propensity_score', replacement=False, caliper=None, drop_unmatched=True)\\npsm.matched_ids\\n\""
      ]
     },
     "execution_count": 19,
     "metadata": {},
     "output_type": "execute_result"
    }
   ],
   "source": [
    "#PSM packages kept running overtime (i.e. system ran out of memory so i will conduct DiD without PSM)\n",
    "#but this is how i would conduct PSM and i will conduct another round of comparison with a summary statistics table to ensure that Treatment and control groups are the same\n",
    "'''\n",
    "psm = PsmPy(RSF_DT, treatment='DT2', indx='index', exclude = ['Post'])\n",
    "psm.logistic_ps(balance = True)\n",
    "psm.predicted_data\n",
    "psm.logistic_ps(balance = True)\n",
    "psm.knn_matched(matcher='propensity_score', replacement=False, caliper=None, drop_unmatched=True)\n",
    "psm.matched_ids\n",
    "'''"
   ]
  },
  {
   "cell_type": "code",
   "execution_count": 22,
   "id": "1a8526c5-fa10-47b8-8c6a-2da4fa134818",
   "metadata": {
    "editable": true,
    "slideshow": {
     "slide_type": ""
    },
    "tags": []
   },
   "outputs": [
    {
     "name": "stdout",
     "output_type": "stream",
     "text": [
      "                            OLS Regression Results                            \n",
      "==============================================================================\n",
      "Dep. Variable:      Real_resale_price   R-squared:                       0.451\n",
      "Model:                            OLS   Adj. R-squared:                  0.451\n",
      "Method:                 Least Squares   F-statistic:                     5637.\n",
      "Date:                Sun, 16 Jun 2024   Prob (F-statistic):               0.00\n",
      "Time:                        16:17:38   Log-Likelihood:            -5.4794e+05\n",
      "No. Observations:               41193   AIC:                         1.096e+06\n",
      "Df Residuals:                   41186   BIC:                         1.096e+06\n",
      "Df Model:                           6                                         \n",
      "Covariance Type:            nonrobust                                         \n",
      "===================================================================================\n",
      "                      coef    std err          t      P>|t|      [0.025      0.975]\n",
      "-----------------------------------------------------------------------------------\n",
      "Intercept       -3.383e+04   5076.276     -6.664      0.000   -4.38e+04   -2.39e+04\n",
      "Post             1933.8977   1594.908      1.213      0.225   -1192.157    5059.952\n",
      "DT2              3.215e+04   2634.697     12.204      0.000     2.7e+04    3.73e+04\n",
      "DT2:Post         2.838e+04   3589.174      7.907      0.000    2.13e+04    3.54e+04\n",
      "floor_area_sqm   3357.2889     75.767     44.311      0.000    3208.785    3505.793\n",
      "flat_type_n      3.697e+04   1683.164     21.964      0.000    3.37e+04    4.03e+04\n",
      "Lease_rem_years  2079.0800     70.533     29.477      0.000    1940.834    2217.326\n",
      "==============================================================================\n",
      "Omnibus:                    12121.490   Durbin-Watson:                   0.262\n",
      "Prob(Omnibus):                  0.000   Jarque-Bera (JB):            33239.713\n",
      "Skew:                           1.580   Prob(JB):                         0.00\n",
      "Kurtosis:                       6.063   Cond. No.                         895.\n",
      "==============================================================================\n",
      "\n",
      "Notes:\n",
      "[1] Standard Errors assume that the covariance matrix of the errors is correctly specified.\n"
     ]
    }
   ],
   "source": [
    "#Create a DiD with controls for usual determinants of resale price (floor area,flat type,lease remaining years)\n",
    "model=ols(formula='Real_resale_price ~ Post + DT2 + DT2*Post + floor_area_sqm + flat_type_n +Lease_rem_years',data=RSF_DT).fit()\n",
    "print(model.summary())"
   ]
  },
  {
   "cell_type": "markdown",
   "id": "2b2e1a8e-0a9a-4669-9bac-c714b9e9b843",
   "metadata": {},
   "source": [
    "### Further analysis \n",
    "what is the impact of DT2 lines on the flats it is closest to? (flats where closest MRT is one of the DT2 stations)"
   ]
  },
  {
   "cell_type": "code",
   "execution_count": 27,
   "id": "369dc7fa-f66d-49f8-9014-96a91839768f",
   "metadata": {},
   "outputs": [
    {
     "name": "stdout",
     "output_type": "stream",
     "text": [
      "                            OLS Regression Results                            \n",
      "==============================================================================\n",
      "Dep. Variable:      Real_resale_price   R-squared:                       0.441\n",
      "Model:                            OLS   Adj. R-squared:                  0.441\n",
      "Method:                 Least Squares   F-statistic:                     5418.\n",
      "Date:                Sun, 16 Jun 2024   Prob (F-statistic):               0.00\n",
      "Time:                        16:17:49   Log-Likelihood:            -5.4831e+05\n",
      "No. Observations:               41193   AIC:                         1.097e+06\n",
      "Df Residuals:                   41186   BIC:                         1.097e+06\n",
      "Df Model:                           6                                         \n",
      "Covariance Type:            nonrobust                                         \n",
      "===================================================================================\n",
      "                      coef    std err          t      P>|t|      [0.025      0.975]\n",
      "-----------------------------------------------------------------------------------\n",
      "Intercept       -2.164e+04   5075.157     -4.265      0.000   -3.16e+04   -1.17e+04\n",
      "Post             8213.4305   1444.500      5.686      0.000    5382.180     1.1e+04\n",
      "CL_MRT_DT2       5.409e+04   1.59e+04      3.402      0.001    2.29e+04    8.53e+04\n",
      "CL_MRT_DT2:Post  1814.6888   2.15e+04      0.084      0.933   -4.03e+04     4.4e+04\n",
      "floor_area_sqm   3324.5291     76.518     43.448      0.000    3174.552    3474.507\n",
      "flat_type_n      3.684e+04   1700.823     21.657      0.000    3.35e+04    4.02e+04\n",
      "Lease_rem_years  2044.4984     71.161     28.731      0.000    1905.021    2183.976\n",
      "==============================================================================\n",
      "Omnibus:                    12643.938   Durbin-Watson:                   0.257\n",
      "Prob(Omnibus):                  0.000   Jarque-Bera (JB):            35453.823\n",
      "Skew:                           1.642   Prob(JB):                         0.00\n",
      "Kurtosis:                       6.142   Cond. No.                     4.33e+03\n",
      "==============================================================================\n",
      "\n",
      "Notes:\n",
      "[1] Standard Errors assume that the covariance matrix of the errors is correctly specified.\n",
      "[2] The condition number is large, 4.33e+03. This might indicate that there are\n",
      "strong multicollinearity or other numerical problems.\n"
     ]
    }
   ],
   "source": [
    "#Create a DiD with controls for usual determinants of resale price (floor area,flat type,lease remaining years)\n",
    "model=ols(formula='Real_resale_price ~ Post + CL_MRT_DT2 + CL_MRT_DT2*Post + floor_area_sqm + flat_type_n +Lease_rem_years',data=RSF_DT).fit()\n",
    "print(model.summary())"
   ]
  },
  {
   "cell_type": "code",
   "execution_count": null,
   "id": "55b3b9b0-b6e1-46d4-9e0c-e8e05944cada",
   "metadata": {},
   "outputs": [],
   "source": []
  }
 ],
 "metadata": {
  "kernelspec": {
   "display_name": "Python 3 (ipykernel)",
   "language": "python",
   "name": "python3"
  },
  "language_info": {
   "codemirror_mode": {
    "name": "ipython",
    "version": 3
   },
   "file_extension": ".py",
   "mimetype": "text/x-python",
   "name": "python",
   "nbconvert_exporter": "python",
   "pygments_lexer": "ipython3",
   "version": "3.11.7"
  }
 },
 "nbformat": 4,
 "nbformat_minor": 5
}
