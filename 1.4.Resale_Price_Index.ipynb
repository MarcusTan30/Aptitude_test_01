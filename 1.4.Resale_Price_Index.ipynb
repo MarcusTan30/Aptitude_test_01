{
 "cells": [
  {
   "cell_type": "code",
   "execution_count": 1,
   "id": "8f717c67",
   "metadata": {},
   "outputs": [],
   "source": [
    "#Import packages\n",
    "import pandas as pd"
   ]
  },
  {
   "cell_type": "code",
   "execution_count": 2,
   "id": "b5f0ac8e",
   "metadata": {},
   "outputs": [],
   "source": [
    "RPI=pd.read_excel(\"Relevant_datasets/Resale_Price_Index.xlsx\")"
   ]
  },
  {
   "cell_type": "code",
   "execution_count": 3,
   "id": "be50966d",
   "metadata": {},
   "outputs": [],
   "source": [
    "#realised that there is no data for 2024Q2 , will use the average of the previous 3 quarters as approx\n",
    "\n",
    "#Get each Qtr's % change from prev Quarter\n",
    "Q4_2023=RPI['% Change from Previous Quarter'].loc[(RPI['Year']==2023) & (RPI['Quarter']==\"IV\")].values[0]\n",
    "Q3_2023=RPI['% Change from Previous Quarter'].loc[(RPI['Year']==2023) & (RPI['Quarter']==\"III\")].values[0]\n",
    "Q2_2023=RPI['% Change from Previous Quarter'].loc[(RPI['Year']==2023) & (RPI['Quarter']==\"II\")].values[0]\n",
    "\n",
    "#Get average % change\n",
    "AVG_Delta=(Q4_2023+Q3_2023+Q2_2023)/3\n",
    "\n",
    "#Get projected index value for 2024 Q2\n",
    "Proj_Val=RPI['Index'].loc[(RPI['Year']==2024) & (RPI['Quarter']==\"I\")].values[0]\n",
    "Proj_Val=Proj_Val*(1+AVG_Delta)\n",
    "\n",
    "#Create a new row and append to dataset\n",
    "new_row = pd.DataFrame({'Year': [2024], 'Quarter': ['II'], 'Index': Proj_Val})\n",
    "RPI = RPI.append(new_row, ignore_index=True)"
   ]
  },
  {
   "cell_type": "code",
   "execution_count": 4,
   "id": "3f148deb",
   "metadata": {},
   "outputs": [],
   "source": [
    "##Normalize to 2024 Q1\n",
    "\n",
    "#Normalize using 2024Q1 as index base\n",
    "index_base=RPI['Index'].loc[(RPI['Year']==2024) & (RPI['Quarter']==\"II\")].values[0]\n",
    "#divide every year's index base by 2024Q1's index base, multiply by 100\n",
    "RPI['Index_2024Q1']=(RPI['Index']/index_base)*100\n",
    "#drop % change from previous quarter\n",
    "RPI.drop(columns=['% Change from Previous Quarter','Index'],inplace=True)\n",
    "\n",
    "#rename index_2024Q1 to index\n",
    "RPI.rename(columns={'Index_2024Q1':'Index'},inplace=True)\n",
    "\n",
    "#change syntax for Quarter from roman numerals to numbers\n",
    "RPI['Quarter']=RPI['Quarter'].apply(lambda x: 1 if (x==\"I\") else x)\n",
    "RPI['Quarter']=RPI['Quarter'].apply(lambda x: 2 if (x==\"II\") else x)\n",
    "RPI['Quarter']=RPI['Quarter'].apply(lambda x: 3 if (x==\"III\") else x)\n",
    "RPI['Quarter']=RPI['Quarter'].apply(lambda x: 4 if (x==\"IV\") else x)"
   ]
  },
  {
   "cell_type": "code",
   "execution_count": 5,
   "id": "7ba47815",
   "metadata": {},
   "outputs": [
    {
     "data": {
      "text/html": [
       "<div>\n",
       "<style scoped>\n",
       "    .dataframe tbody tr th:only-of-type {\n",
       "        vertical-align: middle;\n",
       "    }\n",
       "\n",
       "    .dataframe tbody tr th {\n",
       "        vertical-align: top;\n",
       "    }\n",
       "\n",
       "    .dataframe thead th {\n",
       "        text-align: right;\n",
       "    }\n",
       "</style>\n",
       "<table border=\"1\" class=\"dataframe\">\n",
       "  <thead>\n",
       "    <tr style=\"text-align: right;\">\n",
       "      <th></th>\n",
       "      <th>Year</th>\n",
       "      <th>Quarter</th>\n",
       "      <th>Index</th>\n",
       "    </tr>\n",
       "  </thead>\n",
       "  <tbody>\n",
       "    <tr>\n",
       "      <th>0</th>\n",
       "      <td>2024</td>\n",
       "      <td>1</td>\n",
       "      <td>98.716683</td>\n",
       "    </tr>\n",
       "    <tr>\n",
       "      <th>1</th>\n",
       "      <td>2023</td>\n",
       "      <td>4</td>\n",
       "      <td>96.943330</td>\n",
       "    </tr>\n",
       "    <tr>\n",
       "      <th>2</th>\n",
       "      <td>2023</td>\n",
       "      <td>3</td>\n",
       "      <td>95.922308</td>\n",
       "    </tr>\n",
       "    <tr>\n",
       "      <th>3</th>\n",
       "      <td>2023</td>\n",
       "      <td>2</td>\n",
       "      <td>94.686334</td>\n",
       "    </tr>\n",
       "    <tr>\n",
       "      <th>4</th>\n",
       "      <td>2023</td>\n",
       "      <td>1</td>\n",
       "      <td>93.289146</td>\n",
       "    </tr>\n",
       "    <tr>\n",
       "      <th>...</th>\n",
       "      <td>...</td>\n",
       "      <td>...</td>\n",
       "      <td>...</td>\n",
       "    </tr>\n",
       "    <tr>\n",
       "      <th>133</th>\n",
       "      <td>1990</td>\n",
       "      <td>4</td>\n",
       "      <td>13.273283</td>\n",
       "    </tr>\n",
       "    <tr>\n",
       "      <th>134</th>\n",
       "      <td>1990</td>\n",
       "      <td>3</td>\n",
       "      <td>13.434497</td>\n",
       "    </tr>\n",
       "    <tr>\n",
       "      <th>135</th>\n",
       "      <td>1990</td>\n",
       "      <td>2</td>\n",
       "      <td>13.112069</td>\n",
       "    </tr>\n",
       "    <tr>\n",
       "      <th>136</th>\n",
       "      <td>1990</td>\n",
       "      <td>1</td>\n",
       "      <td>13.058331</td>\n",
       "    </tr>\n",
       "    <tr>\n",
       "      <th>137</th>\n",
       "      <td>2024</td>\n",
       "      <td>2</td>\n",
       "      <td>100.000000</td>\n",
       "    </tr>\n",
       "  </tbody>\n",
       "</table>\n",
       "<p>138 rows × 3 columns</p>\n",
       "</div>"
      ],
      "text/plain": [
       "     Year  Quarter       Index\n",
       "0    2024        1   98.716683\n",
       "1    2023        4   96.943330\n",
       "2    2023        3   95.922308\n",
       "3    2023        2   94.686334\n",
       "4    2023        1   93.289146\n",
       "..    ...      ...         ...\n",
       "133  1990        4   13.273283\n",
       "134  1990        3   13.434497\n",
       "135  1990        2   13.112069\n",
       "136  1990        1   13.058331\n",
       "137  2024        2  100.000000\n",
       "\n",
       "[138 rows x 3 columns]"
      ]
     },
     "execution_count": 5,
     "metadata": {},
     "output_type": "execute_result"
    }
   ],
   "source": [
    "#Visual check\n",
    "RPI"
   ]
  },
  {
   "cell_type": "code",
   "execution_count": 6,
   "id": "d21f54f0",
   "metadata": {},
   "outputs": [],
   "source": [
    "#Export\n",
    "RPI=RPI.to_csv('Relevant_datasets/Resale_Price_Index_Processed.csv')"
   ]
  },
  {
   "cell_type": "code",
   "execution_count": null,
   "id": "c52050dd",
   "metadata": {},
   "outputs": [],
   "source": []
  }
 ],
 "metadata": {
  "kernelspec": {
   "display_name": "Python 3 (ipykernel)",
   "language": "python",
   "name": "python3"
  },
  "language_info": {
   "codemirror_mode": {
    "name": "ipython",
    "version": 3
   },
   "file_extension": ".py",
   "mimetype": "text/x-python",
   "name": "python",
   "nbconvert_exporter": "python",
   "pygments_lexer": "ipython3",
   "version": "3.11.7"
  }
 },
 "nbformat": 4,
 "nbformat_minor": 5
}
