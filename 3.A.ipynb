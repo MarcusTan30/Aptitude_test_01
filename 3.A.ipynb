{
 "cells": [
  {
   "cell_type": "markdown",
   "id": "d165e14e-c386-4edb-ae52-7b691c36ecd9",
   "metadata": {},
   "source": [
    "Yishun has received a negative reputation as “Crazy Town”, and property prices might have been impacted. Are Yishun flats the cheapest in the country?\n",
    "\n",
    "1.To create a dummy variable for each town \\\n",
    "2.encode flat type to integers \\\n",
    "3.To calculate flat age\n",
    "4.conduct regression"
   ]
  },
  {
   "cell_type": "code",
   "execution_count": 5,
   "id": "b34c5ead-fdd1-46c0-b2b5-6351a13be230",
   "metadata": {},
   "outputs": [],
   "source": [
    "###Import packages\n",
    "import pandas as pd\n",
    "import requests\n",
    "import numpy as np\n",
    "import statsmodels as sm\n",
    "import statsmodels.api as smf  \n",
    "from statsmodels.formula.api import ols #formula guide: https://www.statsmodels.org/dev/examples/notebooks/generated/formulas.html"
   ]
  },
  {
   "cell_type": "code",
   "execution_count": 6,
   "id": "a41450f1-9bdb-48dd-b495-69a5d3b20c01",
   "metadata": {},
   "outputs": [],
   "source": [
    "#global values\n",
    "\n",
    "#resale fp\n",
    "RSF_fp=\"Relevant_datasets/RSF90onw_wAddress.csv\"\n",
    "\n"
   ]
  },
  {
   "cell_type": "code",
   "execution_count": 7,
   "id": "8600de87-1bee-4558-987c-ec37248fa7be",
   "metadata": {},
   "outputs": [],
   "source": [
    "#Import RSF\n",
    "RSF=pd.read_csv(RSF_fp,index_col=0,low_memory=False)"
   ]
  },
  {
   "cell_type": "code",
   "execution_count": 10,
   "id": "892850bf-6285-4f52-9db7-ce8aed9819a7",
   "metadata": {},
   "outputs": [
    {
     "name": "stdout",
     "output_type": "stream",
     "text": [
      "no. of unchanged rows: 0\n"
     ]
    }
   ],
   "source": [
    "RSF['flat_type'].unique()\n",
    "#to assume a linear relationship btw flat type and resale price.\n",
    "#assume executive>multi-gen>5 room in general in terms of resale price\n",
    "\n",
    "#Encode flat type to numerical data\n",
    "RSF['flat_type_n']=0\n",
    "RSF.loc[RSF['flat_type']=='1 ROOM','flat_type_n']=1\n",
    "RSF.loc[RSF['flat_type']=='2 ROOM','flat_type_n']=2\n",
    "RSF.loc[RSF['flat_type']=='3 ROOM','flat_type_n']=3\n",
    "RSF.loc[RSF['flat_type']=='4 ROOM','flat_type_n']=4\n",
    "RSF.loc[RSF['flat_type']=='5 ROOM','flat_type_n']=5\n",
    "RSF.loc[RSF['flat_type']=='MULTI-GENERATION','flat_type_n']=6\n",
    "RSF.loc[RSF['flat_type']=='MULTI GENERATION','flat_type_n']=6\n",
    "RSF.loc[RSF['flat_type']=='EXECUTIVE','flat_type_n']=7\n",
    "#check number of unchanged rows after encoding\n",
    "print(\"no. of unchanged rows:\",RSF.loc[RSF['flat_type_n']==0]['flat_type_n'].count())"
   ]
  },
  {
   "cell_type": "code",
   "execution_count": 12,
   "id": "7b2ce3c0-4b53-4960-a0b9-59ce0e3839bd",
   "metadata": {},
   "outputs": [],
   "source": [
    "# to automate the writing of the dummy variable portion of the OLS formula to minimize error\n",
    "\n",
    "#For easy reference down the line (i.e. when writing regression formula), to replace \" \" with \"_\" for town names\n",
    "RSF['town'] = RSF['town'].str.replace(' ',\"_\")\n",
    "RSF['town'] = RSF['town'].str.replace('/',\"_\")\n",
    "\n",
    "#create a list of unique towns for easy reference (to be created before turning column to dummy variable)\n",
    "town_list=list(RSF['town'].unique())\n",
    "\n",
    "#rename each value in list to the name of its corresponding column by adding \"town_\"\n",
    "town_list = ['town_' + x for x in town_list]"
   ]
  },
  {
   "cell_type": "code",
   "execution_count": 13,
   "id": "08a8fa0f-0d8b-4037-a965-54989178080d",
   "metadata": {},
   "outputs": [],
   "source": [
    "#create a dummy variable of towns\n",
    "RSF_dummies = pd.get_dummies(RSF,columns=['town'])\n",
    "\n",
    "#convert boolean to int for dummy variables to ease regression\n",
    "for i in town_list:\n",
    "   RSF_dummies[i] = RSF_dummies[i].astype(int)"
   ]
  },
  {
   "cell_type": "code",
   "execution_count": 18,
   "id": "5daab43c-64a1-4c37-ab3f-21e57952d97b",
   "metadata": {},
   "outputs": [
    {
     "name": "stdout",
     "output_type": "stream",
     "text": [
      "Yishun is not in the list\n",
      "town_ANG_MO_KIO + town_BEDOK + town_BISHAN + town_BUKIT_BATOK + town_BUKIT_MERAH + town_BUKIT_TIMAH + town_CENTRAL_AREA + town_CHOA_CHU_KANG + town_CLEMENTI + town_GEYLANG + town_HOUGANG + town_JURONG_EAST + town_JURONG_WEST + town_KALLANG_WHAMPOA + town_MARINE_PARADE + town_QUEENSTOWN + town_SENGKANG + town_SERANGOON + town_TAMPINES + town_TOA_PAYOH + town_WOODLANDS + town_LIM_CHU_KANG + town_SEMBAWANG + town_BUKIT_PANJANG + town_PASIR_RIS + town_PUNGGOL\n"
     ]
    }
   ],
   "source": [
    "## to automate the writing of the dummy variable portion of the OLS formula to minimize error\n",
    "\n",
    "#remove Yishun from list before adding to formula to prevent multicollinearity (1 town needs to be absent during regression)\n",
    "town_list.remove('town_YISHUN')\n",
    "\n",
    "#checking if yishun is still in the list\n",
    "if 'town_YISHUN' in town_list:\n",
    "    print(\"Yishun is in the list\")\n",
    "else:\n",
    "    print(\"Yishun is not in the list\")\n",
    "\n",
    "str_town = ' + '.join(town_list)\n",
    "\n",
    "print(str_town) "
   ]
  },
  {
   "cell_type": "code",
   "execution_count": 27,
   "id": "768cfa8b-5695-4bff-a805-07b81d6c3d45",
   "metadata": {},
   "outputs": [],
   "source": [
    "#Create a variable for flat age\n",
    "RSF_dummies['flat_age']=RSF_dummies['Year_x']-RSF_dummies['lease_commence_date']"
   ]
  },
  {
   "cell_type": "code",
   "execution_count": 29,
   "id": "63e86708-ef18-4eee-8e9f-6aa8b50b78fa",
   "metadata": {},
   "outputs": [],
   "source": [
    "form=str('Real_resale_price ~ flat_type_n + floor_area_sqm + flat_age + '+str_town)\n",
    "OLS3a = ols(formula=form, data=RSF_dummies).fit()"
   ]
  },
  {
   "cell_type": "code",
   "execution_count": 31,
   "id": "92a3a90b-a34b-4e06-af84-9ae1906e7eba",
   "metadata": {},
   "outputs": [
    {
     "name": "stdout",
     "output_type": "stream",
     "text": [
      "                            OLS Regression Results                            \n",
      "==============================================================================\n",
      "Dep. Variable:      Real_resale_price   R-squared:                       0.799\n",
      "Model:                            OLS   Adj. R-squared:                  0.799\n",
      "Method:                 Least Squares   F-statistic:                 1.267e+05\n",
      "Date:                Sun, 16 Jun 2024   Prob (F-statistic):               0.00\n",
      "Time:                        23:18:17   Log-Likelihood:            -1.2035e+07\n",
      "No. Observations:              927061   AIC:                         2.407e+07\n",
      "Df Residuals:                  927031   BIC:                         2.407e+07\n",
      "Df Model:                          29                                         \n",
      "Covariance Type:            nonrobust                                         \n",
      "========================================================================================\n",
      "                           coef    std err          t      P>|t|      [0.025      0.975]\n",
      "----------------------------------------------------------------------------------------\n",
      "Intercept            -1.451e+05    656.527   -220.986      0.000   -1.46e+05   -1.44e+05\n",
      "flat_type_n           4.599e+04    280.621    163.901      0.000    4.54e+04    4.65e+04\n",
      "floor_area_sqm        6017.0935     12.644    475.884      0.000    5992.312    6041.875\n",
      "flat_age             -3887.9107     11.627   -334.373      0.000   -3910.700   -3865.121\n",
      "town_ANG_MO_KIO       1.022e+05    614.556    166.302      0.000    1.01e+05    1.03e+05\n",
      "town_BEDOK            8.369e+04    572.415    146.197      0.000    8.26e+04    8.48e+04\n",
      "town_BISHAN           2.098e+05    825.578    254.114      0.000    2.08e+05    2.11e+05\n",
      "town_BUKIT_BATOK      2.523e+04    637.732     39.559      0.000     2.4e+04    2.65e+04\n",
      "town_BUKIT_MERAH      2.184e+05    698.207    312.753      0.000    2.17e+05     2.2e+05\n",
      "town_BUKIT_TIMAH      2.501e+05   2135.576    117.123      0.000    2.46e+05    2.54e+05\n",
      "town_CENTRAL_AREA     2.571e+05   1311.000    196.113      0.000    2.55e+05     2.6e+05\n",
      "town_CHOA_CHU_KANG   -4.571e+04    675.560    -67.658      0.000    -4.7e+04   -4.44e+04\n",
      "town_CLEMENTI         1.353e+05    746.953    181.121      0.000    1.34e+05    1.37e+05\n",
      "town_GEYLANG          1.248e+05    749.464    166.479      0.000    1.23e+05    1.26e+05\n",
      "town_HOUGANG          3.387e+04    613.642     55.189      0.000    3.27e+04    3.51e+04\n",
      "town_JURONG_EAST      2.615e+04    778.040     33.608      0.000    2.46e+04    2.77e+04\n",
      "town_JURONG_WEST     -3.593e+04    569.778    -63.065      0.000    -3.7e+04   -3.48e+04\n",
      "town_KALLANG_WHAMPOA    1.7e+05    756.376    224.809      0.000    1.69e+05    1.72e+05\n",
      "town_MARINE_PARADE    2.712e+05   1245.504    217.779      0.000    2.69e+05    2.74e+05\n",
      "town_QUEENSTOWN        2.03e+05    750.014    270.727      0.000    2.02e+05    2.05e+05\n",
      "town_SENGKANG        -5402.2254    712.616     -7.581      0.000   -6798.929   -4005.521\n",
      "town_SERANGOON        8.344e+04    801.975    104.046      0.000    8.19e+04     8.5e+04\n",
      "town_TAMPINES          6.55e+04    547.931    119.544      0.000    6.44e+04    6.66e+04\n",
      "town_TOA_PAYOH        1.627e+05    720.928    225.664      0.000    1.61e+05    1.64e+05\n",
      "town_WOODLANDS       -7.094e+04    575.348   -123.307      0.000   -7.21e+04   -6.98e+04\n",
      "town_LIM_CHU_KANG    -1.537e+05   1.31e+04    -11.692      0.000    -1.8e+05   -1.28e+05\n",
      "town_SEMBAWANG       -6.156e+04    982.880    -62.630      0.000   -6.35e+04   -5.96e+04\n",
      "town_BUKIT_PANJANG   -3.855e+04    748.197    -51.520      0.000      -4e+04   -3.71e+04\n",
      "town_PASIR_RIS        1.631e+04    714.613     22.824      0.000    1.49e+04    1.77e+04\n",
      "town_PUNGGOL           2.75e+04    840.204     32.729      0.000    2.59e+04    2.91e+04\n",
      "==============================================================================\n",
      "Omnibus:                   115302.256   Durbin-Watson:                   0.690\n",
      "Prob(Omnibus):                  0.000   Jarque-Bera (JB):           370104.938\n",
      "Skew:                           0.644   Prob(JB):                         0.00\n",
      "Kurtosis:                       5.815   Cond. No.                     1.21e+04\n",
      "==============================================================================\n",
      "\n",
      "Notes:\n",
      "[1] Standard Errors assume that the covariance matrix of the errors is correctly specified.\n",
      "[2] The condition number is large, 1.21e+04. This might indicate that there are\n",
      "strong multicollinearity or other numerical problems.\n"
     ]
    }
   ],
   "source": [
    "print(OLS3a.summary())"
   ]
  },
  {
   "cell_type": "markdown",
   "id": "ee253e6b-e931-4dad-a325-d50631d79abb",
   "metadata": {},
   "source": [
    "According to the regression if the dummy variable, after controlling for typical influences of real resale prices such as floor sqm and flat type, there are towns (\"town_XXX\") with statistically significant correlation coefficients that are negative (i.e. coef<0). That would mean that there are towns were the average prices of resale flats are cheaper than Yishun. Given that the regression table shows that there are towns (e.g. woodlands=-6.433e+04***,sembawang=-3.981e+04***) with statistically significant correlation coefficients<0, it would mean that relative to Yishun, they are cheaper on average. Hence there is no evidence from this analysis that Yishun flats are the cheapest in the country.strong multicollinearity or other numerical problems."
   ]
  },
  {
   "cell_type": "code",
   "execution_count": null,
   "id": "b5ef697a-bfae-4bd2-bf1d-523d08fb7e07",
   "metadata": {},
   "outputs": [],
   "source": []
  }
 ],
 "metadata": {
  "kernelspec": {
   "display_name": "Python 3 (ipykernel)",
   "language": "python",
   "name": "python3"
  },
  "language_info": {
   "codemirror_mode": {
    "name": "ipython",
    "version": 3
   },
   "file_extension": ".py",
   "mimetype": "text/x-python",
   "name": "python",
   "nbconvert_exporter": "python",
   "pygments_lexer": "ipython3",
   "version": "3.11.7"
  }
 },
 "nbformat": 4,
 "nbformat_minor": 5
}
