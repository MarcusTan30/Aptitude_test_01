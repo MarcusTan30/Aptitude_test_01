{
 "cells": [
  {
   "cell_type": "code",
   "execution_count": 1,
   "id": "66ab73ef-962b-45c7-9450-d2da1e45b056",
   "metadata": {},
   "outputs": [],
   "source": [
    "import pandas as pd\n",
    "import requests\n",
    "import numpy as np\n",
    "import statsmodels as sm\n",
    "import statsmodels.api as smf  \n",
    "from statsmodels.formula.api import ols #formula guide: https://www.statsmodels.org/dev/examples/notebooks/generated/formulas.html"
   ]
  },
  {
   "cell_type": "markdown",
   "id": "194c7d11-52f1-41bf-8ac6-3993da2fe52c",
   "metadata": {},
   "source": [
    "In order to know if flat sizes have gotten smaller, we will need to look specifically at the changes in sizes of new,rather than resale flats over time.\n",
    "We can use the information we have gotten from resale flats, and compare the sizes of flats across their lease_commence_date, and control for flat type."
   ]
  },
  {
   "cell_type": "code",
   "execution_count": 3,
   "id": "094aef3a-3ae4-4943-a16b-df922f442fc4",
   "metadata": {},
   "outputs": [],
   "source": [
    "#Resale file path\n",
    "Resale_fp=\"Relevant_datasets/RSF90onw_wAddress.csv\""
   ]
  },
  {
   "cell_type": "code",
   "execution_count": 4,
   "id": "3a6e6f84-41be-4562-9527-665f4fdebcfd",
   "metadata": {},
   "outputs": [],
   "source": [
    "#Import resale price dataset (set low memory to false due to error msg)\n",
    "RSF=pd.read_csv(Resale_fp,index_col=0,low_memory=False)"
   ]
  },
  {
   "cell_type": "code",
   "execution_count": 5,
   "id": "bf7b1a3b-0889-4db7-a095-03026413c46e",
   "metadata": {},
   "outputs": [
    {
     "name": "stdout",
     "output_type": "stream",
     "text": [
      "no. of unchanged rows: 0\n"
     ]
    }
   ],
   "source": [
    "RSF['flat_type'].unique()\n",
    "#to assume a linear relationship btw flat type and resale price.\n",
    "#assume executive>multi-gen>5 room in general in terms of resale price\n",
    "RSF['flat_type_n']=0\n",
    "RSF.loc[RSF['flat_type']=='1 ROOM','flat_type_n']=1\n",
    "RSF.loc[RSF['flat_type']=='2 ROOM','flat_type_n']=2\n",
    "RSF.loc[RSF['flat_type']=='3 ROOM','flat_type_n']=3\n",
    "RSF.loc[RSF['flat_type']=='4 ROOM','flat_type_n']=4\n",
    "RSF.loc[RSF['flat_type']=='5 ROOM','flat_type_n']=5\n",
    "RSF.loc[RSF['flat_type']=='MULTI-GENERATION','flat_type_n']=6\n",
    "RSF.loc[RSF['flat_type']=='MULTI GENERATION','flat_type_n']=6\n",
    "RSF.loc[RSF['flat_type']=='EXECUTIVE','flat_type_n']=7\n",
    "print(\"no. of unchanged rows:\",RSF.loc[RSF['flat_type_n']==0]['flat_type_n'].count())"
   ]
  },
  {
   "cell_type": "code",
   "execution_count": 6,
   "id": "6da0588c-38fe-4950-8c27-854f4efdad44",
   "metadata": {},
   "outputs": [
    {
     "data": {
      "text/plain": [
       "Index(['month', 'town', 'flat_type', 'block', 'street_name_x', 'storey_range',\n",
       "       'floor_area_sqm', 'flat_model', 'lease_commence_date', 'resale_price',\n",
       "       'remaining_lease', 'street_name_y', 'Lat', 'Lon', 'street_names_oldver',\n",
       "       'Coordinates', 'rLat', 'rLon', 'Cl_MRT', 'Distance_MRT_km', 'Year_x',\n",
       "       'Quarter_x', 'Yr_Qt', 'Year_y', 'Quarter_y', 'Index',\n",
       "       'Real_resale_price', 'flat_type_n'],\n",
       "      dtype='object')"
      ]
     },
     "execution_count": 6,
     "metadata": {},
     "output_type": "execute_result"
    }
   ],
   "source": [
    "RSF.columns"
   ]
  },
  {
   "cell_type": "code",
   "execution_count": 7,
   "id": "80835cb0-4d81-4059-a35c-b64d62f5c179",
   "metadata": {},
   "outputs": [],
   "source": [
    "#To make the coefficients and intercepts for regression table more readable, will \n",
    "#convert lease commencement date (LCD) to years after 1966 (lease commencement date of the oldest flat)\n",
    "#Yr_aft_LCD=lease_commence_date-1966\n",
    "RSF['Flat_Age_2024']=2024 - RSF['lease_commence_date']\n"
   ]
  },
  {
   "cell_type": "code",
   "execution_count": 8,
   "id": "dc54aa6a-d3b0-47e0-809b-3cb799d5c50d",
   "metadata": {},
   "outputs": [],
   "source": [
    "model=ols(formula=\"floor_area_sqm ~ Flat_Age_2024 + flat_type_n\",data=RSF).fit()"
   ]
  },
  {
   "cell_type": "code",
   "execution_count": 9,
   "id": "45ca18cd-d3bb-44e3-a9d2-11e49d03f72b",
   "metadata": {},
   "outputs": [
    {
     "name": "stdout",
     "output_type": "stream",
     "text": [
      "                            OLS Regression Results                            \n",
      "==============================================================================\n",
      "Dep. Variable:         floor_area_sqm   R-squared:                       0.875\n",
      "Model:                            OLS   Adj. R-squared:                  0.875\n",
      "Method:                 Least Squares   F-statistic:                 3.244e+06\n",
      "Date:                Mon, 17 Jun 2024   Prob (F-statistic):               0.00\n",
      "Time:                        01:10:34   Log-Likelihood:            -3.3657e+06\n",
      "No. Observations:              927061   AIC:                         6.731e+06\n",
      "Df Residuals:                  927058   BIC:                         6.732e+06\n",
      "Df Model:                           2                                         \n",
      "Covariance Type:            nonrobust                                         \n",
      "=================================================================================\n",
      "                    coef    std err          t      P>|t|      [0.025      0.975]\n",
      "---------------------------------------------------------------------------------\n",
      "Intercept        13.8141      0.060    231.350      0.000      13.697      13.931\n",
      "Flat_Age_2024    -0.1168      0.001   -122.049      0.000      -0.119      -0.115\n",
      "flat_type_n      21.0471      0.009   2320.718      0.000      21.029      21.065\n",
      "==============================================================================\n",
      "Omnibus:                   254524.033   Durbin-Watson:                   0.704\n",
      "Prob(Omnibus):                  0.000   Jarque-Bera (JB):          4943016.214\n",
      "Skew:                           0.839   Prob(JB):                         0.00\n",
      "Kurtosis:                      14.187   Cond. No.                         238.\n",
      "==============================================================================\n",
      "\n",
      "Notes:\n",
      "[1] Standard Errors assume that the covariance matrix of the errors is correctly specified.\n"
     ]
    }
   ],
   "source": [
    "print(model.summary())"
   ]
  },
  {
   "cell_type": "markdown",
   "id": "1ee4f227-661e-434a-8903-54f958b48bdc",
   "metadata": {},
   "source": [
    "According to the results of the regression, there is a statistically significant (at 1% lvl) positive correlation between the age of the flat (at 2024) and the size of homes (flat sq m) after controlling for flat types, which could confound the size of the flats.Hence, there is truth in the statement that newer flats are getting smaller."
   ]
  },
  {
   "cell_type": "code",
   "execution_count": null,
   "id": "2284403c-b4b4-488b-810d-94abc8d1df2b",
   "metadata": {},
   "outputs": [],
   "source": []
  }
 ],
 "metadata": {
  "kernelspec": {
   "display_name": "Python 3 (ipykernel)",
   "language": "python",
   "name": "python3"
  },
  "language_info": {
   "codemirror_mode": {
    "name": "ipython",
    "version": 3
   },
   "file_extension": ".py",
   "mimetype": "text/x-python",
   "name": "python",
   "nbconvert_exporter": "python",
   "pygments_lexer": "ipython3",
   "version": "3.11.7"
  }
 },
 "nbformat": 4,
 "nbformat_minor": 5
}
